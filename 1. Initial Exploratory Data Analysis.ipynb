{
 "cells": [
  {
   "cell_type": "markdown",
   "id": "12299453",
   "metadata": {},
   "source": [
    "## Questions and Findings"
   ]
  },
  {
   "cell_type": "markdown",
   "id": "431d0f31",
   "metadata": {},
   "source": [
    "*A space to document open questions about the dataset, and findings that come about during the analysis.* \n",
    "\n",
    "#### *FOR EXAMPLE:*\n",
    "\n",
    "Questions:\n",
    "- What is the difference between variable 4 and 8? (Given that they have similar names)\n",
    "\n",
    "\n",
    "Findings:\n",
    "- There is a strong skew between categories for variable 1, with 72% spent in state 1 and only 28% across state 2, 3 and 4\n",
    "- Some variables have high amounts of NaNs. In particular, variable 9 (36%) and variable 12 (31%).\n",
    "- Subject 1 is entirely missing data for variable 7.\n"
   ]
  },
  {
   "cell_type": "markdown",
   "id": "aebf4232",
   "metadata": {},
   "source": [
    "## Module imports"
   ]
  },
  {
   "cell_type": "code",
   "execution_count": null,
   "id": "dda22bc7",
   "metadata": {},
   "outputs": [],
   "source": [
    "import pandas as pd\n",
    "import numpy as np\n",
    "import matplotlib.pyplot as plt\n",
    "import os, sys\n",
    "\n",
    "# add src folder to module imports path\n",
    "sys.path.insert(0,(os.path.join(os.path.dirname(os.getcwd()), 'src')))\n"
   ]
  },
  {
   "cell_type": "markdown",
   "id": "01915b0c",
   "metadata": {},
   "source": [
    "## Load data "
   ]
  },
  {
   "cell_type": "code",
   "execution_count": null,
   "id": "b73605b5",
   "metadata": {},
   "outputs": [],
   "source": [
    "df1 = pd.read_csv(\"../data/<FILE NAME>\", index_col=0)\n",
    "df2 = pd.read_csv(\"../data/<FILE NAME 2>\", index_col=0)"
   ]
  },
  {
   "cell_type": "code",
   "execution_count": null,
   "id": "6a296fce",
   "metadata": {},
   "outputs": [],
   "source": [
    "df1.head()"
   ]
  },
  {
   "cell_type": "code",
   "execution_count": null,
   "id": "caca1180",
   "metadata": {},
   "outputs": [],
   "source": [
    "df2.head()"
   ]
  },
  {
   "cell_type": "markdown",
   "id": "38cc7d0e",
   "metadata": {},
   "source": [
    "## Describe data"
   ]
  },
  {
   "cell_type": "code",
   "execution_count": null,
   "id": "f3f05dcc",
   "metadata": {},
   "outputs": [],
   "source": [
    "for column in df1.columns:\n",
    "    df1.column.describe()"
   ]
  },
  {
   "cell_type": "code",
   "execution_count": null,
   "id": "65316330",
   "metadata": {},
   "outputs": [],
   "source": [
    "def quick_analysis(df):\n",
    "    print(f\"Rows: {df.shape[0]}\")\n",
    "    print(f\"\\nColumns: {df.shape[1]}\")\n",
    "    print(f\"\\nColumn Names: {df.columns}\")\n",
    "    print(f\"\\nData Types: {df.dtypes}\")\n",
    "\n",
    "quick_analysis(df1)"
   ]
  },
  {
   "cell_type": "code",
   "execution_count": null,
   "id": "d5ee2bbb",
   "metadata": {},
   "outputs": [],
   "source": [
    "def rank_missing_data(df):\n",
    "    pct_null = df.apply(lambda x: sum(x.isnull()) / len(df))*100\n",
    "    pct_null = pct_null.sort_values(ascending=False)\n",
    "    print(\"Variables with most null values:\")\n",
    "    for index, col in enumerate(pct_null.index[:10]):\n",
    "        print(f\"\\t- Column {col}: {pct_null.values[index]}% null\")    \n",
    "\n",
    "rank_missing_data(df1)\n",
    "\n",
    "sum(df1.isna().values)"
   ]
  },
  {
   "cell_type": "code",
   "execution_count": null,
   "id": "97fba102",
   "metadata": {},
   "outputs": [],
   "source": [
    "# Print number of data points per subject\n",
    "for subject in df1.SUBJECT.unique():\n",
    "    print(f\"{subject} data points: {len(all_subjects_df.loc[all_subjects_df.SUBJECT_NAME == subject])}\")"
   ]
  },
  {
   "cell_type": "markdown",
   "id": "455ce67f",
   "metadata": {},
   "source": [
    "## Clean data"
   ]
  },
  {
   "cell_type": "code",
   "execution_count": null,
   "id": "34e377fa",
   "metadata": {},
   "outputs": [],
   "source": [
    "# Remove empty columns\n",
    "for col in list(df1):\n",
    "    if sum(df1[col].notna()) <= 2:\n",
    "        df1.drop(col, axis=1, inplace=True)"
   ]
  },
  {
   "cell_type": "code",
   "execution_count": null,
   "id": "557df4c3",
   "metadata": {},
   "outputs": [],
   "source": [
    "# Remove duplicate rows\n",
    "df1 = df1[~df1.index.duplicated(keep='first')]"
   ]
  },
  {
   "cell_type": "code",
   "execution_count": null,
   "id": "e0f828a7",
   "metadata": {},
   "outputs": [],
   "source": [
    "# Convert empty data points into NaNs\n",
    "df1 = df1.replace(r'^\\s*$', np.nan, regex=True)"
   ]
  },
  {
   "cell_type": "code",
   "execution_count": null,
   "id": "d02c8bf1",
   "metadata": {},
   "outputs": [],
   "source": [
    "# Convert non-numerical variables into numerical\n",
    "df1['variable 1'] = df1['variable 1'].astype(float)"
   ]
  },
  {
   "cell_type": "code",
   "execution_count": null,
   "id": "72e4d093",
   "metadata": {},
   "outputs": [],
   "source": [
    "# Convert string variables to binary\n",
    "df['diagnosis'] = df['diagnosis'].map({'M':1,'B':0})"
   ]
  },
  {
   "cell_type": "code",
   "execution_count": null,
   "id": "ded26c31",
   "metadata": {},
   "outputs": [],
   "source": [
    "# Merge datasets\n",
    "combined_df = pd.merge(df1, df2, left_index=True, right_index=True)\n",
    "combined_df"
   ]
  },
  {
   "cell_type": "markdown",
   "id": "2f2b7929",
   "metadata": {},
   "source": [
    "## Visualise data"
   ]
  },
  {
   "cell_type": "code",
   "execution_count": null,
   "id": "8f36d98a",
   "metadata": {},
   "outputs": [],
   "source": [
    "df1.hist(figsize=(16, 12))\n",
    "plt.show()"
   ]
  },
  {
   "cell_type": "code",
   "execution_count": null,
   "id": "d202b82b",
   "metadata": {},
   "outputs": [],
   "source": [
    "# TODO: add more visualisation plots"
   ]
  },
  {
   "cell_type": "markdown",
   "id": "209b84db",
   "metadata": {},
   "source": [
    "## More targetted analysis"
   ]
  },
  {
   "cell_type": "markdown",
   "id": "7db79604",
   "metadata": {},
   "source": [
    "*A space for bespoke code, to answer questions specific to our dataset.*"
   ]
  },
  {
   "cell_type": "code",
   "execution_count": null,
   "id": "8df45864",
   "metadata": {},
   "outputs": [],
   "source": []
  }
 ],
 "metadata": {
  "kernelspec": {
   "display_name": "data_science",
   "language": "python",
   "name": "data_science"
  },
  "language_info": {
   "codemirror_mode": {
    "name": "ipython",
    "version": 3
   },
   "file_extension": ".py",
   "mimetype": "text/x-python",
   "name": "python",
   "nbconvert_exporter": "python",
   "pygments_lexer": "ipython3",
   "version": "3.10.8"
  }
 },
 "nbformat": 4,
 "nbformat_minor": 5
}
