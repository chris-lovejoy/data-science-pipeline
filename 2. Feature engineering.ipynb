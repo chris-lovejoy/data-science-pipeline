{
 "cells": [
  {
   "cell_type": "markdown",
   "id": "18e8847e",
   "metadata": {},
   "source": [
    "# 2. Feature Engineering"
   ]
  },
  {
   "cell_type": "markdown",
   "id": "d734f550",
   "metadata": {},
   "source": [
    "Process:\n",
    "1. Decide features to engineer\n",
    "2. Create implementations below\n",
    "3. Once implementation effective, incorporate into module in src folder\n"
   ]
  },
  {
   "cell_type": "code",
   "execution_count": 1,
   "id": "12c59aa7",
   "metadata": {},
   "outputs": [],
   "source": [
    "import pandas as pd\n",
    "import numpy as np\n",
    "import matplotlib.pyplot as plt\n",
    "import seaborn as sns\n",
    "import os, sys\n",
    "\n",
    "# add src folder to module imports path\n",
    "sys.path.insert(0,(os.path.join(os.path.dirname(os.getcwd()), 'src')))\n",
    "\n",
    "import build_features"
   ]
  },
  {
   "cell_type": "markdown",
   "id": "2d0b8e01",
   "metadata": {},
   "source": [
    "## Visualise currently-extracted features"
   ]
  },
  {
   "cell_type": "code",
   "execution_count": null,
   "id": "cd322a2f",
   "metadata": {},
   "outputs": [],
   "source": [
    "features_df = build_features.build_features()\n",
    "features_df.head()"
   ]
  },
  {
   "cell_type": "markdown",
   "id": "7aa27a77",
   "metadata": {},
   "source": [
    "## Engineer new features "
   ]
  },
  {
   "cell_type": "code",
   "execution_count": null,
   "id": "5b2ed9c3",
   "metadata": {},
   "outputs": [],
   "source": [
    "# Load data\n",
    "df1 = pd.read_csv(\"../data/<FILE NAME>\", index_col=0)\n"
   ]
  },
  {
   "cell_type": "markdown",
   "id": "69eb750b",
   "metadata": {},
   "source": [
    "### Extract feature 1"
   ]
  },
  {
   "cell_type": "code",
   "execution_count": null,
   "id": "e45987d2",
   "metadata": {},
   "outputs": [],
   "source": [
    "def add_feature_x(df):\n",
    "    # TODO: write code to extract feature\n",
    "    return df"
   ]
  },
  {
   "cell_type": "code",
   "execution_count": null,
   "id": "27e2ddc1",
   "metadata": {},
   "outputs": [],
   "source": [
    "# Extract feature and inspect resultant dataframe\n",
    "df1 = add_feature_x(df1)\n",
    "df1.head()\n"
   ]
  }
 ],
 "metadata": {
  "kernelspec": {
   "display_name": "data_science",
   "language": "python",
   "name": "data_science"
  },
  "language_info": {
   "codemirror_mode": {
    "name": "ipython",
    "version": 3
   },
   "file_extension": ".py",
   "mimetype": "text/x-python",
   "name": "python",
   "nbconvert_exporter": "python",
   "pygments_lexer": "ipython3",
   "version": "3.10.8"
  }
 },
 "nbformat": 4,
 "nbformat_minor": 5
}
