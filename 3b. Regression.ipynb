{
 "cells": [
  {
   "cell_type": "code",
   "execution_count": 2,
   "id": "3c831395",
   "metadata": {},
   "outputs": [],
   "source": [
    "import pandas as pd\n",
    "import numpy as np\n",
    "\n",
    "from sklearn.linear_model import Ridge, Lasso\n",
    "import statsmodels as sm\n",
    "from statsmodels.api import OLS\n",
    "\n",
    "from sklearn.model_selection import train_test_split\n",
    "from sklearn.metrics import mean_squared_error, r2_score\n",
    "import matplotlib.pyplot as plt\n",
    "\n",
    "import sys\n",
    "sys.path.insert(0,'../src')\n",
    "from data import build_features\n",
    "import config"
   ]
  },
  {
   "cell_type": "markdown",
   "id": "8b477f27",
   "metadata": {},
   "source": [
    "**Note**: Statsmodels library generally preferable to sklearn as gives more detailed output out-of-the-box."
   ]
  },
  {
   "cell_type": "markdown",
   "id": "1c31716a",
   "metadata": {},
   "source": [
    "## Load data"
   ]
  },
  {
   "cell_type": "code",
   "execution_count": null,
   "id": "fac832cd",
   "metadata": {},
   "outputs": [],
   "source": [
    "combined_df = build_features.process_data()"
   ]
  },
  {
   "cell_type": "markdown",
   "id": "2d2afcb8",
   "metadata": {},
   "source": [
    "## Set parameters"
   ]
  },
  {
   "cell_type": "code",
   "execution_count": 3,
   "id": "244faf26",
   "metadata": {},
   "outputs": [],
   "source": [
    "predicted_variable = 'variable_X'"
   ]
  },
  {
   "cell_type": "code",
   "execution_count": null,
   "id": "b53eb8d8",
   "metadata": {},
   "outputs": [],
   "source": [
    "model_type = 'Lasso' #'Ridge' # 'OLS'"
   ]
  },
  {
   "cell_type": "markdown",
   "id": "6092a28c",
   "metadata": {},
   "source": [
    "## Prepare data"
   ]
  },
  {
   "cell_type": "code",
   "execution_count": null,
   "id": "23785a1a",
   "metadata": {},
   "outputs": [],
   "source": [
    "input_df = combined_df.drop(config.prediction_outputs, axis=1)\n",
    "target_df = combined_df[predicted_variable]"
   ]
  },
  {
   "cell_type": "code",
   "execution_count": null,
   "id": "40e3cf08",
   "metadata": {},
   "outputs": [],
   "source": [
    "# Split data to create train and test data\n",
    "train_X, test_X = train_test_split(input_df, random_state=42)\n",
    "train_Y, test_Y = train_test_split(target_df, random_state=42)"
   ]
  },
  {
   "cell_type": "markdown",
   "id": "76e19a78",
   "metadata": {},
   "source": [
    "## Parameter selection"
   ]
  },
  {
   "cell_type": "code",
   "execution_count": 4,
   "id": "c60f590f",
   "metadata": {},
   "outputs": [],
   "source": [
    "# TODO: add step-wise feature selection and/or alternatives"
   ]
  },
  {
   "cell_type": "code",
   "execution_count": null,
   "id": "1b19d481",
   "metadata": {},
   "outputs": [],
   "source": []
  },
  {
   "cell_type": "markdown",
   "id": "8b370287",
   "metadata": {},
   "source": [
    "## Fit model"
   ]
  },
  {
   "cell_type": "code",
   "execution_count": null,
   "id": "c7907d88",
   "metadata": {},
   "outputs": [],
   "source": [
    "model = OLS(train_Y, train_X)"
   ]
  },
  {
   "cell_type": "code",
   "execution_count": null,
   "id": "4ab76f0f",
   "metadata": {},
   "outputs": [],
   "source": [
    "if model_type == 'OLS':\n",
    "    results = model.fit()\n",
    "elif model_type == 'Lasso':\n",
    "    results = model.fit_regularized(method='sqrt_lasso', L1_wt = 1) #  refit=True, zero_tol = 0.01b\n",
    "elif model_type == 'Ridge':\n",
    "    results = model.fit_regularized(method='sqrt_lasso', L1_wt = 0)"
   ]
  },
  {
   "cell_type": "code",
   "execution_count": null,
   "id": "d3c49c55",
   "metadata": {},
   "outputs": [],
   "source": [
    "if model_type == 'OLS':\n",
    "    coeffs = results.params\n",
    "    tvalues = results.tvalues\n",
    "    num_features = len(list(train_X))\n",
    "    F_test = results.f_test(np.identity(num_features))\n",
    "\n",
    "    \n",
    "else:\n",
    "    coeffs = results.params\n",
    "    # vals = results.fittedvalues\n"
   ]
  },
  {
   "cell_type": "code",
   "execution_count": null,
   "id": "87c9b564",
   "metadata": {},
   "outputs": [],
   "source": [
    "if model_type == 'OLS':\n",
    "    results.summary() # Print full summary information\n",
    "    # results.summary().tables[1] # Print coefficients and t-values\n",
    "    \n",
    "    # NOTE: statsmodels summary() function only implemented for OLS - not for regularised models"
   ]
  },
  {
   "cell_type": "markdown",
   "id": "48d4cf35",
   "metadata": {},
   "source": [
    "## Assess fit"
   ]
  },
  {
   "cell_type": "code",
   "execution_count": null,
   "id": "5e56e20c",
   "metadata": {},
   "outputs": [],
   "source": [
    "# Generate predictions\n",
    "predictions = model.predict(results.params, exog=test_X)"
   ]
  },
  {
   "cell_type": "code",
   "execution_count": null,
   "id": "96a1a93c",
   "metadata": {},
   "outputs": [],
   "source": [
    "print(f\"MSE: {mean_squared_error(test_Y.values, predictions)}\")\n",
    "print(f\"RMSE: {mean_squared_error(test_Y.values, predictions, squared=False)}\")\n",
    "print(f\"R^2: {r2_score(test_Y.values, predictions)}\")"
   ]
  },
  {
   "cell_type": "code",
   "execution_count": null,
   "id": "5d67f23b",
   "metadata": {},
   "outputs": [],
   "source": [
    "predictions_df = pd.DataFrame(test_Y)\n",
    "predictions_df['predictions'] = predictions"
   ]
  },
  {
   "cell_type": "code",
   "execution_count": null,
   "id": "712fd9fe",
   "metadata": {},
   "outputs": [],
   "source": [
    "# Plot predicted vs true. \n",
    "# NOTE: scale 0 to 1 of x-axis for normalised. (comment out if fitting unnormalised)\n",
    "plt.scatter(predictions_df['BPI_Impact_Change'], predictions_df['predictions'])\n",
    "plt.xlim(0,1)\n",
    "plt.ylim(0,1)\n",
    "plt.xlabel(\"true\")\n",
    "plt.ylabel(\"predicted\")\n",
    "plt.show()"
   ]
  },
  {
   "cell_type": "code",
   "execution_count": null,
   "id": "0a8e7a9e",
   "metadata": {},
   "outputs": [],
   "source": [
    "# look at exact predictions and actual\n",
    "predictions_df"
   ]
  },
  {
   "cell_type": "markdown",
   "id": "6104ef97",
   "metadata": {},
   "source": [
    "## Interrogate model"
   ]
  },
  {
   "cell_type": "markdown",
   "id": "913e9afe",
   "metadata": {},
   "source": [
    "Rank the coefficients in order."
   ]
  },
  {
   "cell_type": "code",
   "execution_count": 79,
   "id": "418a2942",
   "metadata": {},
   "outputs": [],
   "source": [
    "# Make coefficients absolute\n",
    "coeffs_abs = np.abs(coeffs)"
   ]
  },
  {
   "cell_type": "code",
   "execution_count": 80,
   "id": "92c126d4",
   "metadata": {},
   "outputs": [],
   "source": [
    "# Get indices of sort in descending order\n",
    "coef_sort_order = coeffs_abs.argsort()[::-1]"
   ]
  },
  {
   "cell_type": "code",
   "execution_count": 84,
   "id": "84a57063",
   "metadata": {},
   "outputs": [
    {
     "name": "stdout",
     "output_type": "stream",
     "text": [
      "Trazodone:\t\t\t\t -0.2609201077219451.\n",
      "Age:\t\t\t\t 0.23422858921924386.\n",
      "Back Pain:\t\t\t\t 0.2018076230118869.\n",
      "Pred:\t\t\t\t 0.14370233484778133.\n",
      "Biologics:\t\t\t\t -0.12274251979957868.\n",
      "Disability_received:\t\t\t\t 0.12037916680348124.\n",
      "Sympathicomimetics:\t\t\t\t 0.11629015280678834.\n",
      "Neuroleptics:\t\t\t\t 0.10922355837360542.\n",
      "BMI_v_low:\t\t\t\t 0.10242728770318324.\n",
      "Nociceptive:\t\t\t\t -0.09228681747545155.\n",
      "Neuropathic Pain:\t\t\t\t -0.08927701027646712.\n",
      "sex:\t\t\t\t 0.08620495141840304.\n",
      "Child/Adolescent pain:\t\t\t\t 0.08301794577027376.\n",
      "Disability_demanded:\t\t\t\t 0.07240395787156964.\n",
      "Opiates_weak:\t\t\t\t 0.07128341313682388.\n",
      "Mirtazapin:\t\t\t\t 0.06965253213274387.\n",
      "Other psych conds:\t\t\t\t -0.06324401186535417.\n",
      "Disability_refused:\t\t\t\t 0.06236877481864439.\n",
      "Disturbed sleep:\t\t\t\t 0.06095700181207002.\n",
      "Airway comorbidities:\t\t\t\t -0.05839767886434518.\n",
      "Z-Drugs:\t\t\t\t 0.05722628485287026.\n",
      "Confirmed auto-immune rheumatism:\t\t\t\t 0.0570423154149589.\n",
      "Alexithymia:\t\t\t\t 0.05346768786481004.\n",
      "Tricyclics ou quadriciclys:\t\t\t\t 0.051831266310203315.\n",
      "Dual:\t\t\t\t 0.04741940793532036.\n",
      "Opiates_strong:\t\t\t\t -0.04372238535226125.\n",
      "PTSD:\t\t\t\t -0.03815771705176893.\n",
      "BenzoBenzodiazepines diazépines:\t\t\t\t -0.03400386158671091.\n",
      "BMI_obese:\t\t\t\t -0.029995080903148116.\n",
      "Menopause:\t\t\t\t -0.029596570684814333.\n",
      "AINS:\t\t\t\t 0.028833758629009193.\n",
      "Peripheral Pain:\t\t\t\t 0.02461939916136735.\n",
      "Children:\t\t\t\t 0.016642606110731612.\n",
      "Nociplastic Pain:\t\t\t\t 0.01642807834989491.\n",
      "Antidepressive treatment:\t\t\t\t 0.015417932166907448.\n",
      "In couple:\t\t\t\t 0.009603952619793354.\n",
      "BMI_healthy:\t\t\t\t -0.0.\n",
      "Depression or anxiety:\t\t\t\t -0.0.\n",
      "Metabolic disease:\t\t\t\t -0.0.\n",
      "BMI_overweight:\t\t\t\t -0.0.\n"
     ]
    }
   ],
   "source": [
    "for index in coef_sort_order:\n",
    "    print(f\"{coeffs.index[index]}:\\t\\t\\t\\t {coeffs[index]}.\")"
   ]
  }
 ],
 "metadata": {
  "kernelspec": {
   "display_name": "cvxopt-env",
   "language": "python",
   "name": "cvxopt-env"
  },
  "language_info": {
   "codemirror_mode": {
    "name": "ipython",
    "version": 3
   },
   "file_extension": ".py",
   "mimetype": "text/x-python",
   "name": "python",
   "nbconvert_exporter": "python",
   "pygments_lexer": "ipython3",
   "version": "3.10.9"
  }
 },
 "nbformat": 4,
 "nbformat_minor": 5
}
